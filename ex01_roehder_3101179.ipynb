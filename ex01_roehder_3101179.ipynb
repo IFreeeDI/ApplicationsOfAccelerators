{
 "cells": [
  {
   "cell_type": "code",
   "execution_count": 1,
   "metadata": {},
   "outputs": [],
   "source": [
    "# Frederic Röhder\n",
    "# 3101179\n",
    "# Application of Accelerators WS 23/24\n",
    "# Ex01 / task 11"
   ]
  },
  {
   "cell_type": "code",
   "execution_count": 2,
   "metadata": {},
   "outputs": [],
   "source": [
    "import numpy as np"
   ]
  },
  {
   "cell_type": "code",
   "execution_count": 3,
   "metadata": {},
   "outputs": [],
   "source": [
    "# definition of function to multiply two matrices\n",
    "def matrix_op_multiply(A,B):\n",
    "  C = A*B\n",
    "  return C\n",
    "  print(C)"
   ]
  },
  {
   "cell_type": "code",
   "execution_count": 4,
   "metadata": {},
   "outputs": [
    {
     "name": "stdout",
     "output_type": "stream",
     "text": [
      "The first random matrix is: \n",
      " [[0.3329583  0.88548465 0.49466335]\n",
      " [0.54452307 0.61522434 0.5989576 ]\n",
      " [0.77400801 0.25182007 0.2213513 ]]\n",
      "The second random matrix is: \n",
      " [[0.65164203 0.80743131 0.3751778 ]\n",
      " [0.67008208 0.25964685 0.6872709 ]\n",
      " [0.63504936 0.05307841 0.37310251]]\n",
      "The result of the multiplication of the two matrices is: \n",
      " [[0.21696962 0.71496803 0.18558671]\n",
      " [0.36487515 0.15974107 0.41164612]\n",
      " [0.49153329 0.01336621 0.08258673]]\n"
     ]
    }
   ],
   "source": [
    "#creation of two randomly filled 3x3 matrices\n",
    "A = np.random.rand(3,3)\n",
    "B = np.random.rand(3,3)\n",
    "\n",
    "#output for input matrices\n",
    "print(\"The first random matrix is: \\n\", A,\"\\n\")\n",
    "print(\"The second random matrix is: \\n\", B,\"\\n\")\n",
    "\n",
    "#call for multiplication function\n",
    "C = matrix_op_multiply(A,B)\n",
    "\n",
    "#output of result\n",
    "print(\"The result of the multiplication of the two matrices is: \\n\", C)"
   ]
  }
 ],
 "metadata": {
  "kernelspec": {
   "display_name": "base",
   "language": "python",
   "name": "python3"
  },
  "language_info": {
   "codemirror_mode": {
    "name": "ipython",
    "version": 3
   },
   "file_extension": ".py",
   "mimetype": "text/x-python",
   "name": "python",
   "nbconvert_exporter": "python",
   "pygments_lexer": "ipython3",
   "version": "3.10.9"
  }
 },
 "nbformat": 4,
 "nbformat_minor": 2
}
