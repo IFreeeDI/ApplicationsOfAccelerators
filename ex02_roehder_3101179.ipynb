{
 "cells": [
  {
   "cell_type": "code",
   "execution_count": null,
   "metadata": {},
   "outputs": [],
   "source": [
    "# Frederic Röhder\n",
    "# 3101179\n",
    "# Application of Accelerators WS 23/24\n",
    "# Ex02 / task 7"
   ]
  },
  {
   "cell_type": "code",
   "execution_count": null,
   "metadata": {},
   "outputs": [],
   "source": [
    "#class of a particle including z and a information and calculated N number\n",
    "class particle:\n",
    "  def __init__(self, A, Z):\n",
    "    self.A = A\n",
    "    self.Z = Z\n",
    "    self.N = A-Z"
   ]
  },
  {
   "cell_type": "code",
   "execution_count": null,
   "metadata": {},
   "outputs": [],
   "source": [
    "#crerate particle class for c-17\n",
    "carbon17 = particle(17,6)"
   ]
  },
  {
   "cell_type": "code",
   "execution_count": null,
   "metadata": {},
   "outputs": [],
   "source": [
    "#gather information of particle\n",
    "mass = carbon17.A\n",
    "\n",
    "proton = carbon17.Z\n",
    "\n",
    "neutron = carbon17.N"
   ]
  },
  {
   "cell_type": "code",
   "execution_count": null,
   "metadata": {},
   "outputs": [],
   "source": [
    "#output of particle data\n",
    "print(\"The mass number of the particle is: \\n\", mass,\"\\n\")\n",
    "print(\"The proton number of the particle is: \\n\", proton,\"\\n\")\n",
    "print(\"The neutron number of the particle is: \\n\", neutron,\"\\n\")"
   ]
  }
 ],
 "metadata": {
  "language_info": {
   "name": "python"
  }
 },
 "nbformat": 4,
 "nbformat_minor": 2
}
